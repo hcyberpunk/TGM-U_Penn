{
  "nbformat": 4,
  "nbformat_minor": 0,
  "metadata": {
    "colab": {
      "name": "Updated_Data_Loader_TGM.ipynb",
      "provenance": []
    },
    "kernelspec": {
      "name": "python3",
      "display_name": "Python 3"
    },
    "language_info": {
      "name": "python"
    }
  },
  "cells": [
    {
      "cell_type": "code",
      "metadata": {
        "id": "9ucUGshFCEE4"
      },
      "source": [
        "def load_train():\n",
        "    x_train = []\n",
        "    y_train1 = []\n",
        "    y_train2 = []\n",
        "    y_train3 = []\n",
        "    y_train4 = []\n",
        "    y_train5 = []\n",
        "    y_train6 = []\n",
        "    heights = pd.read_csv('Pre-operative_TCGA-GBM_Segmentations/Pre-operative_TCGA-GBM_Segmentations/TCGA_GBM_radiomicFeatures.csv')\n",
        "    \n",
        "    for i in range(102):\n",
        "      img_path1 = os.path.join('Pre-operative_TCGA-GBM_Segmentations', 'Pre-operative_TCGA-GBM_Segmentations', str(heights['ID'][i]), str(heights['ID'][i])+'_'+str(heights['Date'][i]) + '_t1.nii.gz')\n",
        "      img_path2 = os.path.join('Pre-operative_TCGA-GBM_Segmentations', 'Pre-operative_TCGA-GBM_Segmentations', str(heights['ID'][i]), str(heights['ID'][i])+'_'+str(heights['Date'][i]) + '_t1Gd.nii.gz')\n",
        "      img_path3 = os.path.join('Pre-operative_TCGA-GBM_Segmentations', 'Pre-operative_TCGA-GBM_Segmentations', str(heights['ID'][i]), str(heights['ID'][i])+'_'+str(heights['Date'][i]) + '_t2.nii.gz')\n",
        "      img_path4 = os.path.join('Pre-operative_TCGA-GBM_Segmentations', 'Pre-operative_TCGA-GBM_Segmentations', str(heights['ID'][i]), str(heights['ID'][i])+'_'+str(heights['Date'][i]) + '_flair.nii.gz')\n",
        "      img_path5 = os.path.join('Pre-operative_TCGA-GBM_Segmentations', 'Pre-operative_TCGA-GBM_Segmentations', str(heights['ID'][i]), str(heights['ID'][i])+'_'+str(heights['Date'][i]) + '_GlistrBoost_ManuallyCorrected.nii.gz')\n",
        "      im5 = nilearn.image.math_img('img > 3', img=img_path5)\n",
        "      im1 = nb.load(img_path1)\n",
        "      im2 = nb.load(img_path2)\n",
        "      im3 = nb.load(img_path3)\n",
        "      im4 = nb.load(img_path4)\n",
        "      #im5 = nb.load(img_path5)\n",
        "      #img1 = np.logical_and(im1, im5)\n",
        "      #img2 = np.logical_and(im2, im5)\n",
        "      #img3 = np.logical_and(im3, im5)\n",
        "      #img4 = np.logical_and(im4, im5)\n",
        "      img1 = im1.get_data()\n",
        "      img2 = im2.get_data()\n",
        "      img3 = im3.get_data()\n",
        "      img4 = im4.get_data()\n",
        "      img9 = im5.get_data()\n",
        "      img5 = np.where(img9, img1, 0)\n",
        "      img6 = np.where(img9, img2, 0)\n",
        "      img7 = np.where(img9, img3, 0)\n",
        "      img8 = np.where(img9, img4, 0)\n",
        "      rmin1, rmax1, cmin1, cmax1, zmin1, zmax1 = bbox(img5)\n",
        "      rmin2, rmax2, cmin2, cmax2, zmin2, zmax2 = bbox(img6)\n",
        "      rmin3, rmax3, cmin3, cmax3, zmin3, zmax3 = bbox(img7)\n",
        "      rmin4, rmax4, cmin4, cmax4, zmin4, zmax4 = bbox(img8)\n",
        "      i1 = img5[rmin1:rmin1+71,cmin1:cmin1+68,zmin1:zmin1+61]\n",
        "      i2 = img6[rmin2:rmin2+71,cmin2:cmin2+68,zmin2:zmin3+61]\n",
        "      i3 = img7[rmin3:rmin3+71,cmin3:cmin3+68,zmin3:zmin3+61]\n",
        "      i4 = img8[rmin4:rmin4+71,cmin4:cmin4+68,zmin4:zmin4+61]\n",
        "      #img5 = nb.load(img_path5).get_data()\n",
        "      #plot_anat(img5)\n",
        "      #image = np.stack((i1,i2,i3,i4),axis=-1)\n",
        "      image = np.dstack((i1,i2,i3,i4))\n",
        "      print(image.shape)\n",
        "      let1 = nilearn.image.new_img_like(im1,i1 )\n",
        "      plot_anat(let1)\n",
        "      x_train.append(image)\n",
        "      y_train1.append(heights['TGM_p1'][i])\n",
        "      y_train2.append(heights['TGM_dw'][i])\n",
        "      y_train3.append(heights['TGM_T_1'][i])\n",
        "\n",
        "      print(i)\n",
        "    return x_train, y_train1,y_train2,y_train3"
      ],
      "execution_count": null,
      "outputs": []
    }
  ]
}